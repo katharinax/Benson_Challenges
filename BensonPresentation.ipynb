{
 "cells": [
  {
   "cell_type": "code",
   "execution_count": 2,
   "metadata": {
    "collapsed": false
   },
   "outputs": [],
   "source": [
    "import numpy as np\n",
    "import math\n",
    "import pandas as pd\n",
    "import matplotlib.pyplot as plt\n",
    "import datetime as dt\n",
    "import dateutil as du\n",
    "import re\n",
    "%matplotlib inline \n",
    "\n",
    "def ChooseTurnstile(station):\n",
    "    a = turn.loc[turn[\"STATION\"] == station]\n",
    "    return a\n",
    "\n",
    "STATION_GROUP = ['STATION'] #['C/A', 'UNIT', 'STATION']\n",
    "TURN_GROUP = STATION_GROUP + ['SCP']"
   ]
  },
  {
   "cell_type": "code",
   "execution_count": 3,
   "metadata": {
    "collapsed": true
   },
   "outputs": [],
   "source": [
    "#import os\n",
    "#dir1 = r'/Users/walterkerr/metis/sf17_ds6/week1/Benson_Presentation/Benson_Challenges'\n",
    "#for files in os.walk(dir1):\n",
    "#    for file in files:\n",
    "#        print(file)\n",
    "#        #filenames += [file]\n",
    "\n",
    "try:\n",
    "    del turn\n",
    "except:\n",
    "    pass\n",
    "\n",
    "filenames = ['turnstile_150704.txt', 'turnstile_150711.txt', 'turnstile_150718.txt', 'turnstile_150725.txt', 'turnstile_151003.txt', 'turnstile_151010.txt', 'turnstile_151017.txt', 'turnstile_151024.txt', 'turnstile_151031.txt', 'turnstile_160702.txt', 'turnstile_160709.txt', 'turnstile_160716.txt', 'turnstile_160723.txt', 'turnstile_160730.txt', 'turnstile_161001.txt', 'turnstile_161008.txt', 'turnstile_161015.txt', 'turnstile_161022.txt', 'turnstile_161029.txt']\n",
    "for fn in filenames:\n",
    "    temp = pd.read_csv(fn)\n",
    "    try:\n",
    "        turn = turn.append(temp)\n",
    "    except:\n",
    "        turn = temp.copy()\n",
    "#turn = turn.reset_index()"
   ]
  },
  {
   "cell_type": "code",
   "execution_count": 4,
   "metadata": {
    "collapsed": false
   },
   "outputs": [
    {
     "data": {
      "text/plain": [
       "(3664003, 11)"
      ]
     },
     "execution_count": 4,
     "metadata": {},
     "output_type": "execute_result"
    }
   ],
   "source": [
    "turn.shape"
   ]
  },
  {
   "cell_type": "code",
   "execution_count": 5,
   "metadata": {
    "collapsed": true
   },
   "outputs": [],
   "source": [
    "Laguardia16 = ChooseTurnstile('33 ST-RAWSON ST')\n",
    "Laguardia15 = ChooseTurnstile('33 ST/RAWSON ST')\n",
    "Greenpoint16 = ChooseTurnstile('GREENPOINT AV')\n",
    "Greenpoint15 = ChooseTurnstile('GREENPOINT AVE')\n",
    "del turn"
   ]
  },
  {
   "cell_type": "code",
   "execution_count": 6,
   "metadata": {
    "collapsed": false
   },
   "outputs": [
    {
     "name": "stdout",
     "output_type": "stream",
     "text": [
      "(4243, 11)\n",
      "(4218, 11)\n",
      "(3797, 11)\n",
      "(3828, 11)\n"
     ]
    }
   ],
   "source": [
    "print(Laguardia16.shape)\n",
    "print(Greenpoint16.shape)\n",
    "print(Laguardia15.shape)\n",
    "print(Greenpoint15.shape)"
   ]
  },
  {
   "cell_type": "code",
   "execution_count": 7,
   "metadata": {
    "collapsed": false
   },
   "outputs": [],
   "source": [
    "turn = Laguardia16.append(Laguardia15)\n",
    "turn = turn.append(Greenpoint16)\n",
    "turn = turn.append(Greenpoint15)\n",
    "turn = turn.reset_index()"
   ]
  },
  {
   "cell_type": "code",
   "execution_count": 8,
   "metadata": {
    "collapsed": false
   },
   "outputs": [
    {
     "data": {
      "text/plain": [
       "(16086, 12)"
      ]
     },
     "execution_count": 8,
     "metadata": {},
     "output_type": "execute_result"
    }
   ],
   "source": [
    "turn.shape"
   ]
  },
  {
   "cell_type": "code",
   "execution_count": 9,
   "metadata": {
    "collapsed": false
   },
   "outputs": [],
   "source": [
    "shape = turn.shape\n",
    "turn.columns = turn.columns.str.strip()\n",
    "turn.loc[:, 'd'] = turn['DATE'].map(lambda x: pd.to_datetime(x))\n",
    "turn.loc[:, 'ts'] = turn['DATE'].str.cat(turn['TIME'], sep = \" \").map(lambda x: pd.to_datetime(x))\n",
    "turn.loc[:, 'hr'] = turn['ts'].dt.hour\n",
    "turn.loc[:, 'wday_ch'] = turn.loc[:, 'd'].map(lambda x: x.strftime(\"%A\"))\n",
    "turn.loc[:, 'wday_num'] = turn.loc[:, 'd'].map(lambda x: x.isoweekday())\n",
    "turn.loc[:, 'wk'] = turn.loc[:, 'd'].map(lambda x: x.isocalendar()[1])\n",
    "#turn['d'].value_counts()\n",
    "turn.loc[turn['d'].isin(pd.date_range(dt.datetime(2015, 6, 1), dt.datetime(2015, 8, 1))), 'timeslot'] = \"Summer2015\"\n",
    "turn.loc[turn['d'].isin(pd.date_range(dt.datetime(2015, 9, 1), dt.datetime(2015, 11, 1))), 'timeslot'] = \"Fall2015\"\n",
    "turn.loc[turn['d'].isin(pd.date_range(dt.datetime(2016, 6, 1), dt.datetime(2016, 8, 1))), 'timeslot'] = \"Summer2016\"\n",
    "turn.loc[turn['d'].isin(pd.date_range(dt.datetime(2016, 9, 1), dt.datetime(2016, 11, 1))), 'timeslot'] = \"Fall2016\"\n",
    "turn.sort_values(TURN_GROUP + ['ts'], inplace = True)\n",
    "turn.loc[:, 'net_enter'] = turn['ENTRIES'] - turn.groupby(TURN_GROUP)['ENTRIES'].shift(1)\n",
    "turn.loc[:, 'net_exits'] = turn['EXITS'] - turn.groupby(TURN_GROUP)['EXITS'].shift(1)\n",
    "turn.loc[:, 'tot_traffic'] = turn['net_enter'] + turn['net_exits']\n",
    "#turn.loc[:, 'net_traffic'] = turn['net_enter'] - turn['net_exits']\n",
    "turn = turn[turn['DESC'] == 'REGULAR']\n",
    "turn.loc[turn['net_enter'] < 0, 'net_enter'] = np.nan\n",
    "turn.loc[turn['net_exits'] < 0, 'net_exits'] = np.nan\n",
    "#turn['net_exits'].hist(); turn.loc[turn['net_exits'] > 20000, 'd'].value_counts()\n",
    "turn.loc[turn['net_exits'] > 20000, 'net_exits'] = np.nan"
   ]
  },
  {
   "cell_type": "code",
   "execution_count": 10,
   "metadata": {
    "collapsed": false
   },
   "outputs": [
    {
     "data": {
      "text/plain": [
       "Fall2015      4258\n",
       "Summer2016    4199\n",
       "Fall2016      4187\n",
       "Summer2015    3367\n",
       "Name: timeslot, dtype: int64"
      ]
     },
     "execution_count": 10,
     "metadata": {},
     "output_type": "execute_result"
    }
   ],
   "source": [
    "turn['timeslot'].value_counts()"
   ]
  },
  {
   "cell_type": "code",
   "execution_count": 11,
   "metadata": {
    "collapsed": false
   },
   "outputs": [
    {
     "name": "stdout",
     "output_type": "stream",
     "text": [
      "Index(['index', 'C/A', 'UNIT', 'SCP', 'STATION', 'LINENAME', 'DIVISION',\n",
      "       'DATE', 'TIME', 'DESC', 'ENTRIES', 'EXITS', 'd', 'ts', 'hr', 'wday_ch',\n",
      "       'wday_num', 'wk', 'timeslot', 'net_enter', 'net_exits', 'tot_traffic'],\n",
      "      dtype='object')\n"
     ]
    }
   ],
   "source": [
    "print(turn.columns)"
   ]
  },
  {
   "cell_type": "code",
   "execution_count": 12,
   "metadata": {
    "collapsed": false
   },
   "outputs": [
    {
     "data": {
      "text/plain": [
       "(16011, 22)"
      ]
     },
     "execution_count": 12,
     "metadata": {},
     "output_type": "execute_result"
    }
   ],
   "source": [
    "turn.shape"
   ]
  },
  {
   "cell_type": "code",
   "execution_count": 13,
   "metadata": {
    "collapsed": false
   },
   "outputs": [
    {
     "data": {
      "text/html": [
       "<div>\n",
       "<table border=\"1\" class=\"dataframe\">\n",
       "  <thead>\n",
       "    <tr style=\"text-align: right;\">\n",
       "      <th></th>\n",
       "      <th>index</th>\n",
       "      <th>C/A</th>\n",
       "      <th>UNIT</th>\n",
       "      <th>SCP</th>\n",
       "      <th>STATION</th>\n",
       "      <th>LINENAME</th>\n",
       "      <th>DIVISION</th>\n",
       "      <th>DATE</th>\n",
       "      <th>TIME</th>\n",
       "      <th>DESC</th>\n",
       "      <th>...</th>\n",
       "      <th>d</th>\n",
       "      <th>ts</th>\n",
       "      <th>hr</th>\n",
       "      <th>wday_ch</th>\n",
       "      <th>wday_num</th>\n",
       "      <th>wk</th>\n",
       "      <th>timeslot</th>\n",
       "      <th>net_enter</th>\n",
       "      <th>net_exits</th>\n",
       "      <th>tot_traffic</th>\n",
       "    </tr>\n",
       "  </thead>\n",
       "  <tbody>\n",
       "    <tr>\n",
       "      <th>0</th>\n",
       "      <td>174660</td>\n",
       "      <td>R516</td>\n",
       "      <td>R291</td>\n",
       "      <td>00-00-00</td>\n",
       "      <td>33 ST-RAWSON ST</td>\n",
       "      <td>7</td>\n",
       "      <td>IRT</td>\n",
       "      <td>06/25/2016</td>\n",
       "      <td>00:00:00</td>\n",
       "      <td>REGULAR</td>\n",
       "      <td>...</td>\n",
       "      <td>2016-06-25</td>\n",
       "      <td>2016-06-25</td>\n",
       "      <td>0</td>\n",
       "      <td>Saturday</td>\n",
       "      <td>6</td>\n",
       "      <td>25</td>\n",
       "      <td>Summer2016</td>\n",
       "      <td>NaN</td>\n",
       "      <td>NaN</td>\n",
       "      <td>NaN</td>\n",
       "    </tr>\n",
       "  </tbody>\n",
       "</table>\n",
       "<p>1 rows × 22 columns</p>\n",
       "</div>"
      ],
      "text/plain": [
       "    index   C/A  UNIT       SCP          STATION LINENAME DIVISION  \\\n",
       "0  174660  R516  R291  00-00-00  33 ST-RAWSON ST        7      IRT   \n",
       "\n",
       "         DATE      TIME     DESC     ...               d         ts hr  \\\n",
       "0  06/25/2016  00:00:00  REGULAR     ...      2016-06-25 2016-06-25  0   \n",
       "\n",
       "    wday_ch  wday_num  wk    timeslot  net_enter net_exits  tot_traffic  \n",
       "0  Saturday         6  25  Summer2016        NaN       NaN          NaN  \n",
       "\n",
       "[1 rows x 22 columns]"
      ]
     },
     "execution_count": 13,
     "metadata": {},
     "output_type": "execute_result"
    }
   ],
   "source": [
    "turn.head(1)"
   ]
  },
  {
   "cell_type": "code",
   "execution_count": 14,
   "metadata": {
    "collapsed": false
   },
   "outputs": [
    {
     "data": {
      "text/html": [
       "<div>\n",
       "<table border=\"1\" class=\"dataframe\">\n",
       "  <thead>\n",
       "    <tr style=\"text-align: right;\">\n",
       "      <th></th>\n",
       "      <th>index</th>\n",
       "      <th>C/A</th>\n",
       "      <th>UNIT</th>\n",
       "      <th>SCP</th>\n",
       "      <th>STATION</th>\n",
       "      <th>LINENAME</th>\n",
       "      <th>DIVISION</th>\n",
       "      <th>DATE</th>\n",
       "      <th>TIME</th>\n",
       "      <th>DESC</th>\n",
       "      <th>...</th>\n",
       "      <th>d</th>\n",
       "      <th>ts</th>\n",
       "      <th>hr</th>\n",
       "      <th>wday_ch</th>\n",
       "      <th>wday_num</th>\n",
       "      <th>wk</th>\n",
       "      <th>timeslot</th>\n",
       "      <th>net_enter</th>\n",
       "      <th>net_exits</th>\n",
       "      <th>tot_traffic</th>\n",
       "    </tr>\n",
       "  </thead>\n",
       "  <tbody>\n",
       "    <tr>\n",
       "      <th>16085</th>\n",
       "      <td>89333</td>\n",
       "      <td>N405</td>\n",
       "      <td>R239</td>\n",
       "      <td>00-06-03</td>\n",
       "      <td>GREENPOINT AVE</td>\n",
       "      <td>G</td>\n",
       "      <td>IND</td>\n",
       "      <td>10/30/2015</td>\n",
       "      <td>20:00:00</td>\n",
       "      <td>REGULAR</td>\n",
       "      <td>...</td>\n",
       "      <td>2015-10-30</td>\n",
       "      <td>2015-10-30 20:00:00</td>\n",
       "      <td>20</td>\n",
       "      <td>Friday</td>\n",
       "      <td>5</td>\n",
       "      <td>44</td>\n",
       "      <td>Fall2015</td>\n",
       "      <td>118.0</td>\n",
       "      <td>259.0</td>\n",
       "      <td>377.0</td>\n",
       "    </tr>\n",
       "  </tbody>\n",
       "</table>\n",
       "<p>1 rows × 22 columns</p>\n",
       "</div>"
      ],
      "text/plain": [
       "       index   C/A  UNIT       SCP         STATION LINENAME DIVISION  \\\n",
       "16085  89333  N405  R239  00-06-03  GREENPOINT AVE        G      IND   \n",
       "\n",
       "             DATE      TIME     DESC     ...               d  \\\n",
       "16085  10/30/2015  20:00:00  REGULAR     ...      2015-10-30   \n",
       "\n",
       "                       ts  hr wday_ch  wday_num  wk  timeslot  net_enter  \\\n",
       "16085 2015-10-30 20:00:00  20  Friday         5  44  Fall2015      118.0   \n",
       "\n",
       "      net_exits  tot_traffic  \n",
       "16085     259.0        377.0  \n",
       "\n",
       "[1 rows x 22 columns]"
      ]
     },
     "execution_count": 14,
     "metadata": {},
     "output_type": "execute_result"
    }
   ],
   "source": [
    "turn.tail(1)"
   ]
  },
  {
   "cell_type": "code",
   "execution_count": 15,
   "metadata": {
    "collapsed": false
   },
   "outputs": [
    {
     "data": {
      "text/html": [
       "<div>\n",
       "<table border=\"1\" class=\"dataframe\">\n",
       "  <thead>\n",
       "    <tr style=\"text-align: right;\">\n",
       "      <th></th>\n",
       "      <th>STATION</th>\n",
       "      <th>d</th>\n",
       "      <th>wday_ch</th>\n",
       "      <th>wday_num</th>\n",
       "      <th>wk</th>\n",
       "      <th>timeslot</th>\n",
       "      <th>net_exits</th>\n",
       "    </tr>\n",
       "  </thead>\n",
       "  <tbody>\n",
       "    <tr>\n",
       "      <th>0</th>\n",
       "      <td>33 ST-RAWSON ST</td>\n",
       "      <td>2016-06-25</td>\n",
       "      <td>Saturday</td>\n",
       "      <td>6</td>\n",
       "      <td>25</td>\n",
       "      <td>Summer2016</td>\n",
       "      <td>2476.0</td>\n",
       "    </tr>\n",
       "    <tr>\n",
       "      <th>1</th>\n",
       "      <td>33 ST-RAWSON ST</td>\n",
       "      <td>2016-06-26</td>\n",
       "      <td>Sunday</td>\n",
       "      <td>7</td>\n",
       "      <td>25</td>\n",
       "      <td>Summer2016</td>\n",
       "      <td>1822.0</td>\n",
       "    </tr>\n",
       "    <tr>\n",
       "      <th>2</th>\n",
       "      <td>33 ST-RAWSON ST</td>\n",
       "      <td>2016-06-27</td>\n",
       "      <td>Monday</td>\n",
       "      <td>1</td>\n",
       "      <td>26</td>\n",
       "      <td>Summer2016</td>\n",
       "      <td>9291.0</td>\n",
       "    </tr>\n",
       "    <tr>\n",
       "      <th>3</th>\n",
       "      <td>33 ST-RAWSON ST</td>\n",
       "      <td>2016-06-28</td>\n",
       "      <td>Tuesday</td>\n",
       "      <td>2</td>\n",
       "      <td>26</td>\n",
       "      <td>Summer2016</td>\n",
       "      <td>9472.0</td>\n",
       "    </tr>\n",
       "    <tr>\n",
       "      <th>4</th>\n",
       "      <td>33 ST-RAWSON ST</td>\n",
       "      <td>2016-06-29</td>\n",
       "      <td>Wednesday</td>\n",
       "      <td>3</td>\n",
       "      <td>26</td>\n",
       "      <td>Summer2016</td>\n",
       "      <td>8831.0</td>\n",
       "    </tr>\n",
       "  </tbody>\n",
       "</table>\n",
       "</div>"
      ],
      "text/plain": [
       "           STATION          d    wday_ch  wday_num  wk    timeslot  net_exits\n",
       "0  33 ST-RAWSON ST 2016-06-25   Saturday         6  25  Summer2016     2476.0\n",
       "1  33 ST-RAWSON ST 2016-06-26     Sunday         7  25  Summer2016     1822.0\n",
       "2  33 ST-RAWSON ST 2016-06-27     Monday         1  26  Summer2016     9291.0\n",
       "3  33 ST-RAWSON ST 2016-06-28    Tuesday         2  26  Summer2016     9472.0\n",
       "4  33 ST-RAWSON ST 2016-06-29  Wednesday         3  26  Summer2016     8831.0"
      ]
     },
     "execution_count": 15,
     "metadata": {},
     "output_type": "execute_result"
    }
   ],
   "source": [
    "turn_byDay = pd.DataFrame(turn.groupby(STATION_GROUP + ['d', 'wday_ch', 'wday_num', 'wk', 'timeslot'])['net_exits'].sum())\n",
    "turn_byDay.reset_index(inplace = True)\n",
    "turn_byDay.head()"
   ]
  },
  {
   "cell_type": "code",
   "execution_count": 16,
   "metadata": {
    "collapsed": false
   },
   "outputs": [
    {
     "data": {
      "text/html": [
       "<div>\n",
       "<table border=\"1\" class=\"dataframe\">\n",
       "  <thead>\n",
       "    <tr style=\"text-align: right;\">\n",
       "      <th></th>\n",
       "      <th>STATION</th>\n",
       "      <th>wday_ch</th>\n",
       "      <th>wday_num</th>\n",
       "      <th>timeslot</th>\n",
       "      <th>net_exits</th>\n",
       "    </tr>\n",
       "  </thead>\n",
       "  <tbody>\n",
       "    <tr>\n",
       "      <th>0</th>\n",
       "      <td>33 ST-RAWSON ST</td>\n",
       "      <td>Friday</td>\n",
       "      <td>5</td>\n",
       "      <td>Fall2016</td>\n",
       "      <td>50032.0</td>\n",
       "    </tr>\n",
       "    <tr>\n",
       "      <th>1</th>\n",
       "      <td>33 ST-RAWSON ST</td>\n",
       "      <td>Friday</td>\n",
       "      <td>5</td>\n",
       "      <td>Summer2016</td>\n",
       "      <td>32906.0</td>\n",
       "    </tr>\n",
       "    <tr>\n",
       "      <th>2</th>\n",
       "      <td>33 ST-RAWSON ST</td>\n",
       "      <td>Monday</td>\n",
       "      <td>1</td>\n",
       "      <td>Fall2016</td>\n",
       "      <td>42036.0</td>\n",
       "    </tr>\n",
       "    <tr>\n",
       "      <th>3</th>\n",
       "      <td>33 ST-RAWSON ST</td>\n",
       "      <td>Monday</td>\n",
       "      <td>1</td>\n",
       "      <td>Summer2016</td>\n",
       "      <td>36877.0</td>\n",
       "    </tr>\n",
       "    <tr>\n",
       "      <th>4</th>\n",
       "      <td>33 ST-RAWSON ST</td>\n",
       "      <td>Saturday</td>\n",
       "      <td>6</td>\n",
       "      <td>Fall2016</td>\n",
       "      <td>14337.0</td>\n",
       "    </tr>\n",
       "  </tbody>\n",
       "</table>\n",
       "</div>"
      ],
      "text/plain": [
       "           STATION   wday_ch  wday_num    timeslot  net_exits\n",
       "0  33 ST-RAWSON ST    Friday         5    Fall2016    50032.0\n",
       "1  33 ST-RAWSON ST    Friday         5  Summer2016    32906.0\n",
       "2  33 ST-RAWSON ST    Monday         1    Fall2016    42036.0\n",
       "3  33 ST-RAWSON ST    Monday         1  Summer2016    36877.0\n",
       "4  33 ST-RAWSON ST  Saturday         6    Fall2016    14337.0"
      ]
     },
     "execution_count": 16,
     "metadata": {},
     "output_type": "execute_result"
    }
   ],
   "source": [
    "turn_byDOW = pd.DataFrame(turn.groupby(STATION_GROUP + ['wday_ch', 'wday_num', 'timeslot'])['net_exits'].sum())\n",
    "turn_byDOW.reset_index(inplace = True)\n",
    "turn_byDOW.head()"
   ]
  },
  {
   "cell_type": "code",
   "execution_count": 17,
   "metadata": {
    "collapsed": false
   },
   "outputs": [
    {
     "name": "stdout",
     "output_type": "stream",
     "text": [
      "(14, 5) Index(['STATION', 'wday_ch', 'wday_num', 'timeslot', 'net_exits'], dtype='object')\n"
     ]
    }
   ],
   "source": [
    "station_str = turn_byDOW['STATION'] == '33 ST-RAWSON ST'\n",
    "time_str = turn_byDOW['timeslot'].map(lambda x: re.match('.*2016', x) != None)\n",
    "Laguardia16_byDOW = turn_byDOW[(station_str) & (time_str)]\n",
    "print(Laguardia16_byDOW.shape, Laguardia16_byDOW.columns)"
   ]
  },
  {
   "cell_type": "code",
   "execution_count": 18,
   "metadata": {
    "collapsed": false
   },
   "outputs": [
    {
     "data": {
      "image/png": "[encoded data removed]",
      "text/plain": [
       "<matplotlib.figure.Figure at 0x1136cbd68>"
      ]
     },
     "metadata": {},
     "output_type": "display_data"
    }
   ],
   "source": [
    "Laguardia16_byDOW_sum = Laguardia16_byDOW.copy().loc[Laguardia16_byDOW['timeslot'] == 'Summer2016']\n",
    "Laguardia16_byDOW_sum.sort_values(['wday_num'], inplace = True)\n",
    "Laguardia16_byDOW_fal = Laguardia16_byDOW.copy().loc[Laguardia16_byDOW['timeslot'] == 'Fall2016']\n",
    "Laguardia16_byDOW_fal.sort_values(['wday_num'], inplace = True)\n",
    "\n",
    "plt.figure(figsize = (15, 6))\n",
    "plt.plot(Laguardia16_byDOW_sum['wday_num'], Laguardia16_byDOW_sum['net_exits'], 'b', label = \"Jul 2016\")\n",
    "plt.plot(Laguardia16_byDOW_fal['wday_num'], Laguardia16_byDOW_fal['net_exits'], 'y', label = \"Oct 2016\")\n",
    "plt.legend(fontsize = 14)\n",
    "plt.plot(Laguardia16_byDOW_sum['wday_num'], Laguardia16_byDOW_sum['net_exits'], 'bo')\n",
    "plt.plot(Laguardia16_byDOW_fal['wday_num'], Laguardia16_byDOW_fal['net_exits'], 'yo')\n",
    "plt.ylim(0, 60000)\n",
    "plt.ylabel(r\"N of total exits from one station in a month\", fontsize = 14)\n",
    "plt.xlabel(r\"Day of Week (1=Mon)\", fontsize = 14)\n",
    "plt.title(\"CUNY LaGuardia Turnstile Traffic by Season (Station 33 St-Rawson St)\\n\", fontsize = 16, fontweight=\"bold\")\n",
    "plt.show()"
   ]
  },
  {
   "cell_type": "markdown",
   "metadata": {
    "collapsed": true
   },
   "source": [
    "# Moving on to the control station.."
   ]
  },
  {
   "cell_type": "code",
   "execution_count": 20,
   "metadata": {
    "collapsed": false
   },
   "outputs": [
    {
     "name": "stdout",
     "output_type": "stream",
     "text": [
      "(14, 5) Index(['STATION', 'wday_ch', 'wday_num', 'timeslot', 'net_exits'], dtype='object')\n"
     ]
    }
   ],
   "source": [
    "del Laguardia16_byDOW_sum, Laguardia16_byDOW_fal\n",
    "\n",
    "station_str = turn_byDOW['STATION'] == 'GREENPOINT AV'\n",
    "time_str = turn_byDOW['timeslot'].map(lambda x: re.match('.*2016', x) != None)\n",
    "Greenpoint16_byDOW = turn_byDOW[(station_str) & (time_str)]\n",
    "print(Greenpoint16_byDOW.shape, Greenpoint16_byDOW.columns)"
   ]
  },
  {
   "cell_type": "code",
   "execution_count": 21,
   "metadata": {
    "collapsed": true
   },
   "outputs": [],
   "source": [
    "Greenpoint16_byDOW_sum = Greenpoint16_byDOW.copy().loc[Greenpoint16_byDOW['timeslot'] == 'Summer2016']\n",
    "Greenpoint16_byDOW_sum.sort_values(['wday_num'], inplace = True)\n",
    "Greenpoint16_byDOW_fal = Greenpoint16_byDOW.copy().loc[Greenpoint16_byDOW['timeslot'] == 'Fall2016']\n",
    "Greenpoint16_byDOW_fal.sort_values(['wday_num'], inplace = True)"
   ]
  },
  {
   "cell_type": "code",
   "execution_count": 22,
   "metadata": {
    "collapsed": false
   },
   "outputs": [
    {
     "data": {
      "image/png": "[encoded data removed]",
      "text/plain": [
       "<matplotlib.figure.Figure at 0x111647470>"
      ]
     },
     "metadata": {},
     "output_type": "display_data"
    }
   ],
   "source": [
    "plt.figure(figsize = (15, 6))\n",
    "plt.plot(Greenpoint16_byDOW_sum['wday_num'], Greenpoint16_byDOW_sum['net_exits'], 'b', label = \"Jul 2016\")\n",
    "plt.plot(Greenpoint16_byDOW_fal['wday_num'], Greenpoint16_byDOW_fal['net_exits'], 'y', label = \"Oct 2016\")\n",
    "plt.legend(fontsize = 14)\n",
    "plt.plot(Greenpoint16_byDOW_sum['wday_num'], Greenpoint16_byDOW_sum['net_exits'], 'bo')\n",
    "plt.plot(Greenpoint16_byDOW_fal['wday_num'], Greenpoint16_byDOW_fal['net_exits'], 'yo')\n",
    "plt.ylim(0, 60000)\n",
    "plt.ylabel(r\"N of total exits from one station in a month\", fontsize = 14)\n",
    "plt.xlabel(r\"Day of Week (1=Mon)\", fontsize = 14)\n",
    "plt.title(\"Non-School-Adjacent Traffic by Season (Station Greenpoint Ave)\\n\", fontsize = 16, fontweight=\"bold\")\n",
    "plt.show()"
   ]
  },
  {
   "cell_type": "code",
   "execution_count": null,
   "metadata": {
    "collapsed": true
   },
   "outputs": [],
   "source": []
  }
 ],
 "metadata": {
  "kernelspec": {
   "display_name": "Python 3",
   "language": "python",
   "name": "python3"
  },
  "language_info": {
   "codemirror_mode": {
    "name": "ipython",
    "version": 3
   },
   "file_extension": ".py",
   "mimetype": "text/x-python",
   "name": "python",
   "nbconvert_exporter": "python",
   "pygments_lexer": "ipython3",
   "version": "3.6.0"
  }
 },
 "nbformat": 4,
 "nbformat_minor": 2
}
