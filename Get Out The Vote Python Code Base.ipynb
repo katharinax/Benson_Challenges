{
 "cells": [
  {
   "cell_type": "markdown",
   "metadata": {},
   "source": [
    "# Get Out The Vote! Python Code Base"
   ]
  },
  {
   "cell_type": "markdown",
   "metadata": {},
   "source": [
    "## - KTWT Consulting"
   ]
  },
  {
   "cell_type": "code",
   "execution_count": null,
   "metadata": {
    "collapsed": true
   },
   "outputs": [],
   "source": [
    "import numpy as np\n",
    "import math\n",
    "import pandas as pd\n",
    "import matplotlib.pyplot as plt\n",
    "import datetime as dt\n",
    "import dateutil.parser as dp\n",
    "import os\n",
    "import re\n",
    "import warnings\n",
    "%matplotlib inline \n",
    "\n",
    "STATION_GROUP = ['STATION'] #['C/A', 'UNIT', 'STATION']\n",
    "TURN_GROUP = STATION_GROUP + ['SCP']"
   ]
  },
  {
   "cell_type": "code",
   "execution_count": null,
   "metadata": {
    "collapsed": true
   },
   "outputs": [],
   "source": [
    "def ChooseTurnstile(station):\n",
    "    a = turn.loc[turn[\"STATION\"] == station]\n",
    "    return a\n",
    "\n",
    "def ChooseTurnstile2015(station, season):\n",
    "    a = turn.loc[turn[\"STATION\"] == station]\n",
    "    a = a.rename(columns = {'EXITS                                                               ':'EXITS'})\n",
    "    a['DATE'] = pd.to_datetime(a['DATE'])\n",
    "#     a = a.groupby(by=['STATION','DATE','SCP'])['EXITS'].sum().reset_index()\n",
    "    a = a.groupby(by=['C/A','UNIT','STATION','SCP','DATE','TIME'])['EXITS'].sum().reset_index()\n",
    "    a.loc[:, 'NET_EXITS'] = a['EXITS'] - a['EXITS'].shift(1)\n",
    "    a = a[a['NET_EXITS'] > 0]\n",
    "    a = a[a['NET_EXITS'] < 10000]\n",
    "    a.loc[:, 'WEEKDAY'] = a['DATE'].map(lambda x: x.isoweekday())\n",
    "    a = a.groupby(by=['STATION','DATE','WEEKDAY'])['NET_EXITS'].sum().reset_index()\n",
    "    if season == 'summer':\n",
    "        sumdat = a[(a['DATE'] > '2015-06-26') & (a['DATE'] < '2015-07-24')].reset_index()\n",
    "        return sumdat\n",
    "    else:\n",
    "        falldat = a[(a['DATE'] > '2015-10-03') & (a['DATE'] < '2015-12-01')].reset_index()\n",
    "        return falldat\n",
    "\n",
    "def ChooseTurnstile2016(station, season):\n",
    "    a = turn.loc[turn[\"STATION\"] == station]\n",
    "    a = a.rename(columns = {'EXITS                                                               ':'EXITS'})\n",
    "    a['DATE'] = pd.to_datetime(a['DATE'])\n",
    "#     a = a.groupby(by=['STATION','DATE','SCP'])['EXITS'].sum().reset_index()\n",
    "    a = a.groupby(by=['C/A','UNIT','STATION','SCP','DATE','TIME'])['EXITS'].sum().reset_index()\n",
    "    a.loc[:, 'NET_EXITS'] = a['EXITS'] - a['EXITS'].shift(1)\n",
    "    a = a[a['NET_EXITS'] > 0]\n",
    "    a = a[a['NET_EXITS'] < 5000]\n",
    "#     print(a)\n",
    "    a.loc[:, 'WEEKDAY'] = a['DATE'].map(lambda x: x.isoweekday())\n",
    "    a = a.groupby(by=['STATION','DATE','WEEKDAY'])['NET_EXITS'].sum().reset_index()\n",
    "    if season == 'summer':\n",
    "        sumdat = a[(a['DATE'] > '2016-07-02') & (a['DATE'] < '2016-07-23')].reset_index()\n",
    "        return sumdat\n",
    "    else:\n",
    "        falldat = a[(a['DATE'] > '2016-10-08') & (a['DATE'] < '2016-12-01')].reset_index()\n",
    "        return falldat"
   ]
  },
  {
   "cell_type": "code",
   "execution_count": null,
   "metadata": {
    "collapsed": true
   },
   "outputs": [],
   "source": [
    "def plotStations(summer, fall, station, yaxisV = 55000):\n",
    "    #This is the code for plotting\n",
    "    plt.scatter(summer['day'], summer['summer exits'])\n",
    "    plt.scatter(fall['day'], fall['fall exits'])\n",
    "    plt.ylim(0, yaxisV)\n",
    "    plt.xlabel('Day (Count Starting from 1st Monday of the Month)')\n",
    "    plt.ylabel('Number of People Exiting') #, fontsize=40)\n",
    "    plt.title('Passenger Traffic At \"{0:s}\" Station in Summer and Fall'.format(station))\n",
    "    plt.legend(('July 2016', 'October 2016'), loc = 'lower right')\n",
    "    return plt.show()"
   ]
  },
  {
   "cell_type": "code",
   "execution_count": null,
   "metadata": {
    "collapsed": true
   },
   "outputs": [],
   "source": [
    "def Alt_plotStations(summer, fall, station, yaxisV = 55000):\n",
    "    #This is the code for plotting\n",
    "    s = [150*1 for n in range(len(list(summer['day'])))]\n",
    "    plt.scatter(summer['day'], summer['summer exits'], s = s)\n",
    "    plt.scatter(fall['day'], fall['fall exits'], s = s)\n",
    "    plt.ylim(0, yaxisV)\n",
    "    plt.ylabel('Number of People Exiting', fontsize=20)\n",
    "    plt.xticks(fontsize=18)\n",
    "    plt.yticks(fontsize=18)\n",
    "    plt.title('Passenger Traffic At \"{0:s}\" Station in Summer and Fall'.format(station), fontsize=22, fontweight = \"bold\")\n",
    "    plt.legend(('July 2016', 'October 2016'), loc = 'lower right', fontsize=16)\n",
    "    return None #plt.show()"
   ]
  },
  {
   "cell_type": "code",
   "execution_count": null,
   "metadata": {
    "collapsed": true
   },
   "outputs": [],
   "source": [
    "def ExitStation(new_dogDay):\n",
    "    #This creates dataframe but does not plot\n",
    "    newNames = ['index', 'c/a', 'unit', 'scp', 'station', 'linename', 'division', 'date', 'time', 'desc', 'entries', 'exits']\n",
    "    new_dogDay.columns = newNames\n",
    "    new_dogDay['corrected'] = new_dogDay.groupby(['c/a','unit', 'scp', 'date'])['exits'].transform(pd.Series.diff)\n",
    "    new_dogDay_exits = new_dogDay[['c/a', 'unit', 'scp', 'date', 'exits']]\n",
    "    new_dogDay_exits['corrected'] = new_dogDay_exits.groupby(['c/a','unit', 'scp', 'date'])['exits'].transform(pd.Series.diff)\n",
    "    ndD = new_dogDay_exits[['date', 'corrected']]\n",
    "    ndD_combined = ndD.groupby('date').sum()\n",
    "    ndD = ndD_combined['corrected']\n",
    "    ndD = ndD.reset_index()\n",
    "    ndD['date'] = pd.to_datetime(ndD['date'])\n",
    "    ndD.rename(columns = {'corrected' : 'exits'}, inplace = True)\n",
    "    summer = (ndD['date'] > dp.parse('2016-07-03')) & (ndD['date'] <= dp.parse('2016-08-30'))\n",
    "    fall = (ndD['date'] > dp.parse('2016-10-02')) & (ndD['date'] <= dp.parse('2016-12-30'))\n",
    "    ndDj = ndD[summer]\n",
    "    ndDo = ndD[fall]\n",
    "    ndDj.rename(columns = {'exits' : 'summer exits'}, inplace = True)\n",
    "    ndDo.rename(columns = {'exits' : 'fall exits'}, inplace = True)\n",
    "    day = list(range(1, 27))\n",
    "    ndDj['day'] = day\n",
    "    ndDo['day'] = day\n",
    "    return ndDj, ndDo"
   ]
  },
  {
   "cell_type": "code",
   "execution_count": null,
   "metadata": {
    "collapsed": true
   },
   "outputs": [],
   "source": [
    "def ExitStationP(dogDay, V):\n",
    "    #This creates the dataframe and plots\n",
    "    new_dogDay = ChooseTurnstile(dogDay)\n",
    "    \n",
    "    newNames = ['index', 'c/a', 'unit', 'scp', 'station', 'linename', 'division', 'date', 'time', 'desc', 'entries',\n",
    "                'exits']\n",
    "    new_dogDay.columns = newNames\n",
    "    \n",
    "    new_dogDay['corrected'] = new_dogDay.groupby(['c/a','unit', 'scp', 'date'])['exits'].transform(pd.Series.diff)\n",
    "    \n",
    "    new_dogDay_exits = new_dogDay[['c/a', 'unit', 'scp', 'date', 'exits']]\n",
    "    \n",
    "    new_dogDay_exits['corrected'] = new_dogDay_exits.groupby(['c/a','unit', 'scp', 'date'])['exits'].transform(pd.Series.diff)\n",
    "    \n",
    "    ndD = new_dogDay_exits[['date', 'corrected']]\n",
    "    \n",
    "    ndD_combined = ndD.groupby('date').sum()\n",
    "    \n",
    "    ndD = ndD_combined['corrected']\n",
    "    ndD = ndD.reset_index()\n",
    "    \n",
    "    ndD['date'] = pd.to_datetime(ndD['date'])\n",
    "    ndD.rename(columns = {'corrected' : 'exits'}, inplace = True)\n",
    "    \n",
    "    summer = (ndD['date'] > dp.parse('2016-07-03')) & (ndD['date'] <= dp.parse('2016-08-30'))\n",
    "    fall = (ndD['date'] > dp.parse('2016-10-02')) & (ndD['date'] <= dp.parse('2016-12-30'))\n",
    "    ndDj = ndD[summer]\n",
    "    ndDo = ndD[fall]\n",
    "    \n",
    "    ndDj.rename(columns = {'exits' : 'summer exits'}, inplace = True)\n",
    "    ndDo.rename(columns = {'exits' : 'fall exits'}, inplace = True)\n",
    "    \n",
    "    day = list(range(1, 27))\n",
    "    ndDj['day'] = day\n",
    "    ndDo['day'] = day\n",
    "    \n",
    "    return plotStations(ndDj, ndDo, dogDay, V)"
   ]
  },
  {
   "cell_type": "code",
   "execution_count": null,
   "metadata": {
    "collapsed": true
   },
   "outputs": [],
   "source": [
    "#Bar plot functions by station, by season\n",
    "def GraphStation(station, season):\n",
    "    \"\"\"\n",
    "    Output: Line plot of one station\n",
    "    \"\"\"\n",
    "    raw_data = ChooseTurnstile2015(station, season)\n",
    "#     b = raw_data.iloc[0]\n",
    "    plt.plot(raw_data.index, raw_data['NET_EXITS'])\n",
    "    \n",
    "def GraphStationBar(station, season):\n",
    "    raw_data = ChooseTurnstile2015(station, season)\n",
    "#     b = raw_data.iloc[0]\n",
    "    plt.bar(raw_data.index, raw_data['NET_EXITS'])\n",
    "    \n",
    "def Graphing2015Line(station):\n",
    "    \"\"\"\n",
    "    Output: Line plot of one station by season\n",
    "    \"\"\"\n",
    "    raw_data1 = ChooseTurnstile2015(station, \"fall\")\n",
    "    raw_data2 = ChooseTurnstile2015(station, \"summer\")\n",
    "    plt.figure(figsize = (15, 6))\n",
    "    plt.plot(raw_data1.index, raw_data1['NET_EXITS'], 'b', label=\"Fall 2015\")\n",
    "    plt.plot(raw_data2.index, raw_data2['NET_EXITS'], 'y', label=\"Summer 2015\")\n",
    "    plt.ylabel(r\"Total Exits\", fontsize = 14)\n",
    "    plt.xlabel(r\"Days Surveyed\", fontsize = 14)\n",
    "    plt.title(\"2015 \" + station + \" Turnstile Traffic by Season\", fontsize = 16, fontweight=\"bold\")\n",
    "    plt.legend(loc='upper left')\n",
    "#     difference = raw_data1['NET_EXITS'].reset_index(drop=True) - raw_data2['NET_EXITS'].reset_index(drop=True)\n",
    "#     plt.plot(difference.index, difference['NET_EXITS'])\n",
    "#     print(difference)\n",
    "    plt.show()\n",
    "\n",
    "def Graphing2016Line(station):\n",
    "    raw_data1 = ChooseTurnstile2016(station, \"fall\")\n",
    "    raw_data2 = ChooseTurnstile2016(station, \"summer\")\n",
    "#     print(raw_data1)\n",
    "    plt.figure(figsize = (15, 6))\n",
    "    plt.plot(raw_data1.index, raw_data1['NET_EXITS'], 'b', label=\"Fall 2016\")\n",
    "    plt.plot(raw_data2.index, raw_data2['NET_EXITS'], 'y', label=\"Summer 2016\")\n",
    "    plt.ylabel(r\"Total Exits\", fontsize = 14)\n",
    "    plt.xlabel(r\"Days Surveyed\", fontsize = 14)\n",
    "    plt.title(\"2016 \" + station + \" Turnstile Traffic by Season\", fontsize = 16, fontweight=\"bold\")\n",
    "    plt.legend(loc='upper left')\n",
    "    plt.show()"
   ]
  },
  {
   "cell_type": "code",
   "execution_count": null,
   "metadata": {
    "collapsed": true
   },
   "outputs": [],
   "source": [
    "#Bar plot functions by station, by season, and comparing differences in ridership\n",
    "def Graphing2015BarbyDay(station):\n",
    "    raw_data1 = ChooseTurnstile2015(station, \"fall\")\n",
    "    raw_data2 = ChooseTurnstile2015(station, \"summer\")\n",
    "    data_sets = 27\n",
    "    fig, ax = plt.subplots()\n",
    "    index = np.arange(data_sets)\n",
    "    bar_width = 0.35   \n",
    "    opacity = 0.4\n",
    "    error_config = {'ecolor': '0.3'}\n",
    "    rects1 = plt.bar(raw_data1['WEEKDAY'], raw_data1['NET_EXITS'], bar_width,\n",
    "                 alpha=opacity,\n",
    "                 color='b',\n",
    "                 label='Fall')\n",
    "    rects2 = plt.bar(raw_data2['WEEKDAY'], raw_data2['NET_EXITS'], bar_width,\n",
    "                 alpha=opacity,\n",
    "                 color='r',\n",
    "                 label='Summer')\n",
    "\n",
    "    plt.xlabel('Days Surveyed')\n",
    "    plt.ylabel('Total Exits')\n",
    "    plt.title('2015 Turnstile Data for ' + station + ' Subway Station')\n",
    "    plt.legend()\n",
    "    plt.tight_layout()\n",
    "    plt.show()\n",
    "\n",
    "def Graphing2016BarbyDay(station):\n",
    "    raw_data1 = ChooseTurnstile2016(station, \"fall\")\n",
    "    raw_data2 = ChooseTurnstile2016(station, \"summer\")\n",
    "    data_sets = 21\n",
    "    fig, ax = plt.subplots()\n",
    "    index = np.arange(data_sets)\n",
    "    bar_width = 0.30   \n",
    "    opacity = 0.4\n",
    "    error_config = {'ecolor': '0.3'}\n",
    "    rects1 = plt.bar(raw_data1['WEEKDAY'], raw_data1['NET_EXITS'], bar_width,\n",
    "                 alpha=opacity,\n",
    "                 color='b',\n",
    "                 label='Fall')\n",
    "    rects2 = plt.bar(raw_data2['WEEKDAY'], raw_data2['NET_EXITS'], bar_width,\n",
    "                 alpha=opacity,\n",
    "                 color='r',\n",
    "                 label='Summer')\n",
    "    plt.xlabel('Days Surveyed')\n",
    "    plt.ylabel('Total Exits')\n",
    "    plt.title('2016 Turnstile Data for ' + station + ' Subway Station')\n",
    "    plt.legend()\n",
    "    plt.tight_layout()\n",
    "    plt.show()\n",
    "\n",
    "def Graphing2016BarbySpread(station):\n",
    "    raw_data1 = ChooseTurnstile2016(station, \"fall\")\n",
    "    raw_data2 = ChooseTurnstile2016(station, \"summer\")\n",
    "    data_sets = 21\n",
    "    fig, ax = plt.subplots()\n",
    "    index = np.arange(data_sets)\n",
    "    bar_width = 0.35   \n",
    "    opacity = 0.4\n",
    "    error_config = {'ecolor': '0.3'}\n",
    "    rects1 = plt.bar(raw_data1.index, raw_data1['NET_EXITS'], bar_width,\n",
    "                 alpha=opacity,\n",
    "                 color='b',\n",
    "                 label='Fall')\n",
    "    rects2 = plt.bar(raw_data2.index, raw_data2['NET_EXITS'], bar_width,\n",
    "                 alpha=opacity,\n",
    "                 color='r',\n",
    "                 label='Summer')\n",
    "\n",
    "    plt.xlabel('Days Surveyed')\n",
    "    plt.ylabel('Total Exits')\n",
    "    plt.title('2016 Turnstile Data for ' + station + ' Subway Station')\n",
    "    plt.legend()\n",
    "    plt.tight_layout()\n",
    "    plt.show()"
   ]
  },
  {
   "cell_type": "code",
   "execution_count": null,
   "metadata": {
    "collapsed": true
   },
   "outputs": [],
   "source": [
    "warnings.filterwarnings('ignore')"
   ]
  },
  {
   "cell_type": "code",
   "execution_count": null,
   "metadata": {
    "collapsed": true
   },
   "outputs": [],
   "source": [
    "dir1 = r'/Users/walterkerr/metis/sf17_ds6/week1/Benson_Presentation/Benson_Challenges'\n",
    "for files in os.walk(dir1):\n",
    "    for file in files:\n",
    "        print(file)\n",
    "        #filenames += [file]\n",
    "\n",
    "try:\n",
    "    del turn\n",
    "except:\n",
    "    pass\n",
    "\n",
    "filenames = ['turnstile_150704.txt', 'turnstile_150711.txt', 'turnstile_150718.txt', 'turnstile_150725.txt', 'turnstile_151003.txt', 'turnstile_151010.txt', 'turnstile_151017.txt', 'turnstile_151024.txt', 'turnstile_151031.txt', 'turnstile_160702.txt', 'turnstile_160709.txt', 'turnstile_160716.txt', 'turnstile_160723.txt', 'turnstile_160730.txt', 'turnstile_161001.txt', 'turnstile_161008.txt', 'turnstile_161015.txt', 'turnstile_161022.txt', 'turnstile_161029.txt']\n",
    "for fn in filenames:\n",
    "    temp = pd.read_csv(fn)\n",
    "    try:\n",
    "        turn = turn.append(temp)\n",
    "    except:\n",
    "        turn = temp.copy()\n",
    "turn = turn.reset_index()"
   ]
  },
  {
   "cell_type": "code",
   "execution_count": null,
   "metadata": {
    "collapsed": true
   },
   "outputs": [],
   "source": [
    "#Old data cleaning codes\n",
    "shape = turn.shape\n",
    "turn.columns = turn.columns.str.strip()\n",
    "turn.loc[:, 'd'] = turn['DATE'].map(lambda x: pd.to_datetime(x))\n",
    "turn.loc[:, 'ts'] = turn['DATE'].str.cat(turn['TIME'], sep = \" \").map(lambda x: pd.to_datetime(x))\n",
    "turn.loc[:, 'hr'] = turn['ts'].dt.hour\n",
    "turn.loc[:, 'wday_ch'] = turn.loc[:, 'd'].map(lambda x: x.strftime(\"%A\"))\n",
    "turn.loc[:, 'wday_num'] = turn.loc[:, 'd'].map(lambda x: x.isoweekday())\n",
    "turn.loc[:, 'wk'] = turn.loc[:, 'd'].map(lambda x: x.isocalendar()[1])\n",
    "#turn['d'].value_counts()\n",
    "turn.loc[turn['d'].isin(pd.date_range(dt.datetime(2015, 6, 1), dt.datetime(2015, 8, 1))), 'timeslot'] = \"Summer2015\"\n",
    "turn.loc[turn['d'].isin(pd.date_range(dt.datetime(2015, 9, 1), dt.datetime(2015, 11, 1))), 'timeslot'] = \"Fall2015\"\n",
    "turn.loc[turn['d'].isin(pd.date_range(dt.datetime(2016, 6, 1), dt.datetime(2016, 8, 1))), 'timeslot'] = \"Summer2016\"\n",
    "turn.loc[turn['d'].isin(pd.date_range(dt.datetime(2016, 9, 1), dt.datetime(2016, 11, 1))), 'timeslot'] = \"Fall2016\"\n",
    "turn.sort_values(TURN_GROUP + ['ts'], inplace = True)\n",
    "turn.loc[:, 'net_enter'] = turn['ENTRIES'] - turn.groupby(TURN_GROUP)['ENTRIES'].shift(1)\n",
    "turn.loc[:, 'net_exits'] = turn['EXITS'] - turn.groupby(TURN_GROUP)['EXITS'].shift(1)\n",
    "turn.loc[:, 'tot_traffic'] = turn['net_enter'] + turn['net_exits']\n",
    "#turn.loc[:, 'net_traffic'] = turn['net_enter'] - turn['net_exits']\n",
    "turn = turn[turn['DESC'] == 'REGULAR']\n",
    "turn.loc[turn['net_enter'] < 0, 'net_enter'] = np.nan\n",
    "turn.loc[turn['net_exits'] < 0, 'net_exits'] = np.nan\n",
    "#turn['net_exits'].hist(); turn.loc[turn['net_exits'] > 20000, 'd'].value_counts()\n",
    "turn.loc[turn['net_exits'] > 20000, 'net_exits'] = np.na"
   ]
  },
  {
   "cell_type": "code",
   "execution_count": null,
   "metadata": {
    "collapsed": true
   },
   "outputs": [],
   "source": [
    "#Generate single station DataFrame \n",
    "ChooseTurnstile2016('CHAMBERS ST','fall')"
   ]
  },
  {
   "cell_type": "code",
   "execution_count": null,
   "metadata": {
    "collapsed": true
   },
   "outputs": [],
   "source": [
    "#Generate scatter plot \n",
    "ExitStationP('33 ST-RAWSON ST', 15000)"
   ]
  },
  {
   "cell_type": "code",
   "execution_count": null,
   "metadata": {
    "collapsed": true
   },
   "outputs": [],
   "source": [
    "#Generate alternative scatter plot \n",
    "plt.figure(figsize = (15, 10))\n",
    "ax1 = plt.subplot(2, 1, 1)\n",
    "plt.subplot(2, 1, 1)\n",
    "Alt_ExitStationP('33 ST-RAWSON ST', 15000)\n",
    "plt.setp(ax1.get_xticklabels(), visible=False)\n",
    "plt.subplot(2, 1, 2, sharex=ax1) #, sharey=ax1)\n",
    "plt.xlabel('Day (Count Starting from 1st Monday of the Month)', fontsize=20)\n",
    "Alt_ExitStationP('GREENPOINT AV', 7000)\n",
    "plt.show()"
   ]
  },
  {
   "cell_type": "code",
   "execution_count": null,
   "metadata": {
    "collapsed": true
   },
   "outputs": [],
   "source": [
    "#Generate line plot\n",
    "columbia_summer2015 = GraphStation('116 ST','summer')"
   ]
  },
  {
   "cell_type": "code",
   "execution_count": null,
   "metadata": {
    "collapsed": true
   },
   "outputs": [],
   "source": [
    "#Generate line plot by season\n",
    "Graphing2016Line(\"116 ST\")"
   ]
  },
  {
   "cell_type": "code",
   "execution_count": null,
   "metadata": {
    "collapsed": true
   },
   "outputs": [],
   "source": [
    "#Generate bar plot that compares differences in ridership\n",
    "Graphing2015Bar('33 ST/RAWSON ST')"
   ]
  }
 ],
 "metadata": {
  "kernelspec": {
   "display_name": "Python 3",
   "language": "python",
   "name": "python3"
  },
  "language_info": {
   "codemirror_mode": {
    "name": "ipython",
    "version": 3
   },
   "file_extension": ".py",
   "mimetype": "text/x-python",
   "name": "python",
   "nbconvert_exporter": "python",
   "pygments_lexer": "ipython3",
   "version": "3.6.0"
  }
 },
 "nbformat": 4,
 "nbformat_minor": 2
}
